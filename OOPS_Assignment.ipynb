{
  "nbformat": 4,
  "nbformat_minor": 0,
  "metadata": {
    "colab": {
      "provenance": []
    },
    "kernelspec": {
      "name": "python3",
      "display_name": "Python 3"
    },
    "language_info": {
      "name": "python"
    }
  },
  "cells": [
    {
      "cell_type": "code",
      "execution_count": 1,
      "metadata": {
        "id": "jfcAcSuZBsGU"
      },
      "outputs": [],
      "source": [
        "# What are the five key concepts of Object-Oriented Programming (OOP)?\n",
        "#The five key concepts of object-oriented programming (OOP) are:\n",
        "#Abstraction: Hides complexity from users and only shows relevant information. For example, a stereo system's buttons allow you to interact with the object, but the logic board inside completes the function to turn it on.\n",
        "#Encapsulation: Protects data stored in a class from system-wide access. Encapsulation binds data variables and methods together in a class.\n",
        "#Inheritance: Allows a class to inherit the functions and properties of another class.\n",
        "#Polymorphism: Allows a developer to assign and perform several actions using a single function.\n",
        "#Classes and objects: A basic concept of OOP."
      ]
    },
    {
      "cell_type": "code",
      "source": [
        "# Write a Python class for a `Car` with attributes for `make`, `model`, and `year`. Include a method to display the car's information.\n",
        "class Car:\n",
        "    def __init__(self, make, model, year):\n",
        "        self.make = make\n",
        "        self.model = model\n",
        "        self.year = year\n",
        "\n",
        "    def display_info(self):\n",
        "        return f\"{self.year} {self.make} {self.model}\"\n",
        "\n",
        "# Example usage:\n",
        "if __name__ == \"__main__\":\n",
        "    my_car = Car(\"Toyota\", \"Corolla\", 2020)\n",
        "    print(my_car.display_info())  # Output: 2020 Toyota Corolla\n"
      ],
      "metadata": {
        "colab": {
          "base_uri": "https://localhost:8080/"
        },
        "id": "MDMkBw9jC4J-",
        "outputId": "0d26f5ab-586b-471e-b8e0-e04e2c032b34"
      },
      "execution_count": 2,
      "outputs": [
        {
          "output_type": "stream",
          "name": "stdout",
          "text": [
            "2020 Toyota Corolla\n"
          ]
        }
      ]
    },
    {
      "cell_type": "code",
      "source": [
        "# Explain the difference between instance methods and class methods. Provide an example of each.\n",
        "#intance method >> Instance methods are the most common type of methods in Python classes. They are associated with instances of a class and operate on the instance’s data. When defining an instance method, the method’s first parameter is typically named self, which refers to the instance calling the method. This allows the method to access and manipulate the instance’s attributes.\n",
        "#for example >>\n",
        "class Person:\n",
        "    def __init__(self, name, age):\n",
        "        self.name = name\n",
        "        self.age = age\n",
        "\n",
        "    def introduce(self):\n",
        "        return f\"Hi, I'm {self.name} and I'm {self.age} years old.\"\n",
        "\n",
        "\n",
        "# Creating an instance of the class\n",
        "person1 = Person(\"Kishan\", 20)\n",
        "\n",
        "# Calling the instance method\n",
        "print(person1.introduce())"
      ],
      "metadata": {
        "colab": {
          "base_uri": "https://localhost:8080/"
        },
        "id": "olquTJ7VDRIk",
        "outputId": "5d92a85b-cb65-486c-91b4-5002fd2fad41"
      },
      "execution_count": 3,
      "outputs": [
        {
          "output_type": "stream",
          "name": "stdout",
          "text": [
            "Hi, I'm Kishan and I'm 20 years old.\n"
          ]
        }
      ]
    },
    {
      "cell_type": "code",
      "source": [
        "# class method >> Class methods are associated with the class rather than instances. They are defined using the @classmethod decorator and take the class itself as the first parameter, usually named cls. Class methods are useful for tasks that involve the class rather than the instance, such as creating class-specific behaviors or modifying class-level attributes.\n",
        "#for example >>\n",
        "class MyClass:\n",
        "    class_variable = 0\n",
        "\n",
        "    def __init__(self, value):\n",
        "        self.instance_variable = value\n",
        "\n",
        "    @classmethod\n",
        "    def class_method(cls, x):\n",
        "        cls.class_variable += x\n",
        "        return cls.class_variable\n",
        "\n",
        "# Creating instances of the class\n",
        "obj1 = MyClass(5)\n",
        "obj2 = MyClass(10)\n",
        "\n",
        "# Calling the class method\n",
        "print(MyClass.class_method(3))\n",
        "print(MyClass.class_method(7))"
      ],
      "metadata": {
        "colab": {
          "base_uri": "https://localhost:8080/"
        },
        "id": "Zp0LVTAuD6sJ",
        "outputId": "a9c0d183-2534-47a8-f718-0778b7fedaa2"
      },
      "execution_count": 4,
      "outputs": [
        {
          "output_type": "stream",
          "name": "stdout",
          "text": [
            "3\n",
            "10\n"
          ]
        }
      ]
    },
    {
      "cell_type": "code",
      "source": [
        "#. How does Python implement method overloading? Give an example?\n",
        "#Python doesn't support method overloading in the same way some other languages (like Java or C++) do. In Python, you can define a method multiple times, but the last definition will override the previous ones. However, you can achieve similar functionality using default arguments or variable-length arguments.\n",
        "#for example >>\n",
        "class MathOperations:\n",
        "    def add(self, a, b=0):\n",
        "        return a + b\n",
        "\n",
        "# Example usage:\n",
        "math_ops = MathOperations()\n",
        "print(math_ops.add(5))      # Output: 5 (5 + 0)\n",
        "print(math_ops.add(5, 10))  # Output: 15 (5 + 10)\n"
      ],
      "metadata": {
        "colab": {
          "base_uri": "https://localhost:8080/"
        },
        "id": "iM6GZlyzEZE_",
        "outputId": "27e5cc43-3070-4857-ffc8-cd2ef1df4c9d"
      },
      "execution_count": 5,
      "outputs": [
        {
          "output_type": "stream",
          "name": "stdout",
          "text": [
            "5\n",
            "15\n"
          ]
        }
      ]
    },
    {
      "cell_type": "code",
      "source": [
        "#What are the three types of access modifiers in Python? How are they denoted?\n",
        "#In Python, there are three types of access modifiers that determine the visibility of class members (attributes and methods):\n",
        "\n",
        "#Public:\n",
        "#Denoted by no underscore prefix.\n",
        "#Members are accessible from outside the class.\n",
        "#for example\n",
        "class MyClass:\n",
        "    def __init__(self):\n",
        "        self.public_attribute = \"I'm public!\""
      ],
      "metadata": {
        "id": "mNmQrJchGoMe"
      },
      "execution_count": 9,
      "outputs": []
    },
    {
      "cell_type": "code",
      "source": [
        "#Protected:\n",
        "\n",
        "#Denoted by a single underscore prefix (_).\n",
        "#Members are intended to be accessed only within the class and its subclasses, but they can still be accessed from outside (not strictly enforced).\n",
        "#for example >>\n",
        "class MyClass:\n",
        "    def __init__(self):\n",
        "        self._protected_attribute = \"I'm protected!\"\n"
      ],
      "metadata": {
        "id": "-Y4ZTqYuHQUZ"
      },
      "execution_count": 10,
      "outputs": []
    },
    {
      "cell_type": "code",
      "source": [
        "#Private:\n",
        "\n",
        "#Denoted by a double underscore prefix (__).\n",
        "#Members are name-mangled to prevent access from outside the class (strictly enforced).\n",
        "#for example >>\n",
        "class MyClass:\n",
        "    def __init__(self):\n",
        "        self.__private_attribute = \"I'm private!\"\n"
      ],
      "metadata": {
        "id": "DH7u8ZsoHrHl"
      },
      "execution_count": 11,
      "outputs": []
    },
    {
      "cell_type": "code",
      "source": [
        "#. Describe the five types of inheritance in Python. Provide a simple example of multiple inheritance.\n",
        "#In Python, inheritance allows a class (known as a child or subclass) to inherit attributes and methods from another class (known as a parent or superclass). There are five main types of inheritance in Python:\n",
        "\n",
        "#Single Inheritance: In this type, a subclass inherits from one superclass. This is the simplest form of inheritance.\n",
        "#for example >>\n",
        "class Parent:\n",
        "    def greet(self):\n",
        "        return \"Hello from Parent!\"\n",
        "\n",
        "class Child(Parent):\n",
        "    pass\n",
        "\n",
        "child = Child()\n",
        "print(child.greet())  # Output: Hello from Parent!\n"
      ],
      "metadata": {
        "colab": {
          "base_uri": "https://localhost:8080/"
        },
        "id": "CGIzy1RDH5Ez",
        "outputId": "e41b236e-4019-4337-83f9-9c639d564715"
      },
      "execution_count": 12,
      "outputs": [
        {
          "output_type": "stream",
          "name": "stdout",
          "text": [
            "Hello from Parent!\n"
          ]
        }
      ]
    },
    {
      "cell_type": "code",
      "source": [
        "#Multiple Inheritance: A subclass can inherit from multiple superclasses. This allows for a combination of behaviors from different classes.\n",
        "#for example >>\n",
        "class Parent1:\n",
        "    def greet(self):\n",
        "        return \"Hello from Parent1!\"\n",
        "\n",
        "class Parent2:\n",
        "    def greet(self):\n",
        "        return \"Hello from Parent2!\"\n",
        "\n",
        "class Child(Parent1, Parent2):\n",
        "    def greet(self):\n",
        "        return super().greet() + \" And Child here!\"\n",
        "\n",
        "child = Child()\n",
        "print(child.greet())  # Output: Hello from Parent1! And Child here!\n"
      ],
      "metadata": {
        "colab": {
          "base_uri": "https://localhost:8080/"
        },
        "id": "hyWRmwWQKGEX",
        "outputId": "478e3f29-4e93-4dcd-c62f-ef5d193c5d88"
      },
      "execution_count": 13,
      "outputs": [
        {
          "output_type": "stream",
          "name": "stdout",
          "text": [
            "Hello from Parent1! And Child here!\n"
          ]
        }
      ]
    },
    {
      "cell_type": "code",
      "source": [
        "#Multilevel Inheritance: A subclass can inherit from a superclass, which is itself a subclass of another superclass.\n",
        "#for example >>\n",
        "class Grandparent:\n",
        "    def greet(self):\n",
        "        return \"Hello from Grandparent!\"\n",
        "\n",
        "class Parent(Grandparent):\n",
        "    def greet(self):\n",
        "        return super().greet() + \" And Parent here!\"\n",
        "\n",
        "class Child(Parent):\n",
        "    def greet(self):\n",
        "        return super().greet() + \" And Child here!\"\n",
        "\n",
        "child = Child()\n",
        "print(child.greet())  # Output: Hello from Grandparent! And Parent here! And Child here!\n",
        "\n",
        "\n",
        ""
      ],
      "metadata": {
        "colab": {
          "base_uri": "https://localhost:8080/"
        },
        "id": "-SdLCrruKR5t",
        "outputId": "d8330916-d294-4c99-f452-30f2b78ab8a7"
      },
      "execution_count": 14,
      "outputs": [
        {
          "output_type": "stream",
          "name": "stdout",
          "text": [
            "Hello from Grandparent! And Parent here! And Child here!\n"
          ]
        }
      ]
    },
    {
      "cell_type": "code",
      "source": [
        "#Hierarchical Inheritance: Multiple subclasses inherit from a single superclass.\n",
        "#for example >>\n",
        "class Parent:\n",
        "    def greet(self):\n",
        "        return \"Hello from Parent!\"\n",
        "\n",
        "class Child1(Parent):\n",
        "    def greet(self):\n",
        "        return super().greet() + \" And Child1 here!\"\n",
        "\n",
        "class Child2(Parent):\n",
        "    def greet(self):\n",
        "        return super().greet() + \" And Child2 here!\"\n",
        "\n",
        "child1 = Child1()\n",
        "child2 = Child2()\n",
        "print(child1.greet())  # Output: Hello from Parent! And Child1 here!\n",
        "print(child2.greet())  # Output: Hello from Parent! And Child2 here!\n"
      ],
      "metadata": {
        "colab": {
          "base_uri": "https://localhost:8080/"
        },
        "id": "ZyMaZ9S2KvfB",
        "outputId": "545a4c11-657c-4daf-de38-b702007e4cb1"
      },
      "execution_count": 15,
      "outputs": [
        {
          "output_type": "stream",
          "name": "stdout",
          "text": [
            "Hello from Parent! And Child1 here!\n",
            "Hello from Parent! And Child2 here!\n"
          ]
        }
      ]
    },
    {
      "cell_type": "code",
      "source": [
        "#Hybrid Inheritance: A combination of two or more types of inheritance. It can involve multiple and multilevel inheritance simultaneously.\n",
        "#for example >>\n",
        "class Parent:\n",
        "    def greet(self):\n",
        "        return \"Hello from Parent!\"\n",
        "\n",
        "class Parent1(Parent):\n",
        "    def greet(self):\n",
        "        return super().greet() + \" And Parent1 here!\"\n",
        "\n",
        "class Parent2(Parent):\n",
        "    def greet(self):\n",
        "        return super().greet() + \" And Parent2 here!\"\n",
        "\n",
        "class Child(Parent1, Parent2):\n",
        "    def greet(self):\n",
        "        return super().greet() + \" And Child here!\"\n",
        "\n",
        "child = Child()\n",
        "print(child.greet())  # Output: Hello from Parent! And Parent1 here! And Child here!\n"
      ],
      "metadata": {
        "colab": {
          "base_uri": "https://localhost:8080/"
        },
        "id": "hcMQrY9qK6VC",
        "outputId": "906fd95f-ebfc-4a3f-cd8f-e4e9378a4155"
      },
      "execution_count": 16,
      "outputs": [
        {
          "output_type": "stream",
          "name": "stdout",
          "text": [
            "Hello from Parent! And Parent2 here! And Parent1 here! And Child here!\n"
          ]
        }
      ]
    },
    {
      "cell_type": "code",
      "source": [
        "#What is the Method Resolution Order (MRO) in Python? How can you retrieve it programmatically?\n",
        "#n Python, the Method Resolution Order (MRO) is the order in which classes are searched when calling a method or accessing an attribute. This is particularly important in the context of inheritance, especially with multiple inheritance, as it determines which method gets called when multiple classes define a method with the same name.\n",
        "#Python uses the C3 linearization algorithm to compute the MRO, which ensures that the method resolution order is consistent and respects the inheritance hierarchy.\n",
        "#You can retrieve the MRO of a class using the __mro__ attribute or the mro() method.\n",
        "class A:\n",
        "    pass\n",
        "\n",
        "class B(A):\n",
        "    pass\n",
        "\n",
        "class C(A):\n",
        "    pass\n",
        "\n",
        "class D(B, C):\n",
        "    pass\n",
        "\n",
        "# Retrieve MRO using __mro__ attribute\n",
        "print(D.__mro__)\n",
        "\n",
        "# Or using the mro() method\n",
        "print(D.mro())\n"
      ],
      "metadata": {
        "colab": {
          "base_uri": "https://localhost:8080/"
        },
        "id": "Sq9lSm4xLEmG",
        "outputId": "9c851a73-8515-4545-a745-a100df9f5262"
      },
      "execution_count": 17,
      "outputs": [
        {
          "output_type": "stream",
          "name": "stdout",
          "text": [
            "(<class '__main__.D'>, <class '__main__.B'>, <class '__main__.C'>, <class '__main__.A'>, <class 'object'>)\n",
            "[<class '__main__.D'>, <class '__main__.B'>, <class '__main__.C'>, <class '__main__.A'>, <class 'object'>]\n"
          ]
        }
      ]
    },
    {
      "cell_type": "code",
      "source": [
        "#Create an abstract base class `Shape` with an abstract method `area()`. Then create two subclasses `Circle` and `Rectangle` that implement the `area()` method.\n",
        "from abc import ABC, abstractmethod\n",
        "import math\n",
        "\n",
        "class Shape(ABC):\n",
        "    @abstractmethod\n",
        "    def area(self):\n",
        "        pass\n",
        "\n",
        "class Circle(Shape):\n",
        "    def __init__(self, radius):\n",
        "        self.radius = radius\n",
        "\n",
        "    def area(self):\n",
        "        return math.pi * (self.radius ** 2)\n",
        "\n",
        "class Rectangle(Shape):\n",
        "    def __init__(self, width, height):\n",
        "        self.width = width\n",
        "        self.height = height\n",
        "\n",
        "    def area(self):\n",
        "        return self.width * self.height\n",
        "\n",
        "# Example usage:\n",
        "circle = Circle(5)\n",
        "rectangle = Rectangle(4, 6)\n",
        "\n",
        "print(f\"Area of the circle: {circle.area():.2f}\")\n",
        "print(f\"Area of the rectangle: {rectangle.area()}\")\n"
      ],
      "metadata": {
        "colab": {
          "base_uri": "https://localhost:8080/"
        },
        "id": "L63PRuYHLp4j",
        "outputId": "48ccacc8-5801-46b5-d894-97725a8b6e42"
      },
      "execution_count": 18,
      "outputs": [
        {
          "output_type": "stream",
          "name": "stdout",
          "text": [
            "Area of the circle: 78.54\n",
            "Area of the rectangle: 24\n"
          ]
        }
      ]
    },
    {
      "cell_type": "code",
      "source": [
        "# Demonstrate polymorphism by creating a function that can work with different shape objects to calculate and print their areas?\n",
        "import math\n",
        "\n",
        "# Base class\n",
        "class Shape:\n",
        "    def area(self):\n",
        "        raise NotImplementedError(\"Subclasses must implement this method\")\n",
        "\n",
        "# Circle class\n",
        "class Circle(Shape):\n",
        "    def __init__(self, radius):\n",
        "        self.radius = radius\n",
        "\n",
        "    def area(self):\n",
        "        return math.pi * (self.radius ** 2)\n",
        "\n",
        "# Rectangle class\n",
        "class Rectangle(Shape):\n",
        "    def __init__(self, width, height):\n",
        "        self.width = width\n",
        "        self.height = height\n",
        "\n",
        "    def area(self):\n",
        "        return self.width * self.height\n",
        "\n",
        "# Function to calculate and print area\n",
        "def print_area(shape):\n",
        "    print(f\"The area is: {shape.area()}\")\n",
        "\n",
        "# Create instances of shapes\n",
        "circle = Circle(5)\n",
        "rectangle = Rectangle(4, 6)\n",
        "\n",
        "# Print areas\n",
        "print_area(circle)      # Output: The area is: 78.53981633974483\n",
        "print_area(rectangle)   # Output: The area is: 24\n",
        "\n",
        "#You can easily extend this by adding more shapes, and the print_area function will work without any modification!\n"
      ],
      "metadata": {
        "colab": {
          "base_uri": "https://localhost:8080/"
        },
        "id": "I7Uqx3j4L4QH",
        "outputId": "63dd50f0-7f07-4e5f-e913-76c6cdf8db49"
      },
      "execution_count": 19,
      "outputs": [
        {
          "output_type": "stream",
          "name": "stdout",
          "text": [
            "The area is: 78.53981633974483\n",
            "The area is: 24\n"
          ]
        }
      ]
    },
    {
      "cell_type": "code",
      "source": [
        "# Implement encapsulation in a `BankAccount` class with private attributes for `balance` and `account_number`. Include methods for deposit, withdrawal, and balance inquiry.\n",
        "class BankAccount:\n",
        "    def __init__(self, account_number, initial_balance=0):\n",
        "        self.__account_number = account_number  # Private attribute\n",
        "        self.__balance = initial_balance         # Private attribute\n",
        "\n",
        "    def deposit(self, amount):\n",
        "        if amount > 0:\n",
        "            self.__balance += amount\n",
        "            print(f\"Deposited: ${amount:.2f}. New balance: ${self.__balance:.2f}.\")\n",
        "        else:\n",
        "            print(\"Deposit amount must be positive.\")\n",
        "\n",
        "    def withdraw(self, amount):\n",
        "        if 0 < amount <= self.__balance:\n",
        "            self.__balance -= amount\n",
        "            print(f\"Withdrew: ${amount:.2f}. New balance: ${self.__balance:.2f}.\")\n",
        "        elif amount > self.__balance:\n",
        "            print(\"Insufficient funds.\")\n",
        "        else:\n",
        "            print(\"Withdrawal amount must be positive.\")\n",
        "\n",
        "    def get_balance(self):\n",
        "        return self.__balance\n",
        "\n",
        "    def get_account_number(self):\n",
        "        return self.__account_number\n",
        "\n",
        "# Example usage\n",
        "if __name__ == \"__main__\":\n",
        "    account = BankAccount(\"123456789\", 1000)\n",
        "    account.deposit(500)\n",
        "    account.withdraw(200)\n",
        "    print(f\"Balance: ${account.get_balance():.2f}\")\n",
        "    print(f\"Account Number: {account.get_account_number()}\")\n"
      ],
      "metadata": {
        "colab": {
          "base_uri": "https://localhost:8080/"
        },
        "id": "mKm-fuOoMr8L",
        "outputId": "4b87e869-9cb0-42f5-c034-96c6eede2961"
      },
      "execution_count": 20,
      "outputs": [
        {
          "output_type": "stream",
          "name": "stdout",
          "text": [
            "Deposited: $500.00. New balance: $1500.00.\n",
            "Withdrew: $200.00. New balance: $1300.00.\n",
            "Balance: $1300.00\n",
            "Account Number: 123456789\n"
          ]
        }
      ]
    },
    {
      "cell_type": "code",
      "source": [
        "#. Write a class that overrides the `__str__` and `__add__` magic methods. What will these methods allow you to do?\n",
        "#In Python, the __str__ and __add__ magic methods allow you to customize the string representation of an object and define how objects of a class can be added together, respectively.\n",
        "#__str__ Method:The __str__ method provides a user-friendly string representation of the object. In this example, when you print a Vector instance, it displays its coordinates in a readable format, like Vector(1, 2).\n",
        "#__add__ Method:The __add__ method allows you to define how two Vector objects are added together using the + operator. Here, it checks if the other operand is also a Vector. If it is, it returns a new Vector instance that represents the sum of the two vectors.\n",
        "class Vector:\n",
        "    def __init__(self, x, y):\n",
        "        self.x = x\n",
        "        self.y = y\n",
        "\n",
        "    def __str__(self):\n",
        "        return f\"Vector({self.x}, {self.y})\"\n",
        "\n",
        "    def __add__(self, other):\n",
        "        if isinstance(other, Vector):\n",
        "            return Vector(self.x + other.x, self.y + other.y)\n",
        "        return NotImplemented\n",
        "\n",
        "# Example usage:\n",
        "v1 = Vector(1, 2)\n",
        "v2 = Vector(3, 4)\n",
        "\n",
        "# Using __str__ method\n",
        "print(v1)  # Output: Vector(1, 2)\n",
        "\n",
        "# Using __add__ method\n",
        "v3 = v1 + v2\n",
        "print(v3)  # Output: Vector(4, 6)\n"
      ],
      "metadata": {
        "colab": {
          "base_uri": "https://localhost:8080/"
        },
        "id": "xf0L6Bp-OUDG",
        "outputId": "17897a33-3cc8-4c95-cb3a-50bc9df21f6f"
      },
      "execution_count": 21,
      "outputs": [
        {
          "output_type": "stream",
          "name": "stdout",
          "text": [
            "Vector(1, 2)\n",
            "Vector(4, 6)\n"
          ]
        }
      ]
    },
    {
      "cell_type": "code",
      "source": [
        "#Create a decorator that measures and prints the execution time of a function.\n",
        "import time\n",
        "from functools import wraps\n",
        "\n",
        "def measure_time(func):\n",
        "    @wraps(func)\n",
        "    def wrapper(*args, **kwargs):\n",
        "        start_time = time.time()  # Record the start time\n",
        "        result = func(*args, **kwargs)  # Call the original function\n",
        "        end_time = time.time()  # Record the end time\n",
        "        execution_time = end_time - start_time  # Calculate the execution time\n",
        "        print(f\"Execution time of '{func.__name__}': {execution_time:.4f} seconds\")\n",
        "        return result  # Return the result of the original function\n",
        "    return wrapper\n",
        "\n",
        "# Example usage:\n",
        "@measure_time\n",
        "def example_function(n):\n",
        "    total = 0\n",
        "    for i in range(n):\n",
        "        total += i\n",
        "    return total\n",
        "\n",
        "# Call the decorated function\n",
        "example_function(1000000)\n"
      ],
      "metadata": {
        "colab": {
          "base_uri": "https://localhost:8080/"
        },
        "id": "Nhu59Ov3Pp3o",
        "outputId": "95274366-1383-4b40-b3c5-fef7008cae58"
      },
      "execution_count": 22,
      "outputs": [
        {
          "output_type": "stream",
          "name": "stdout",
          "text": [
            "Execution time of 'example_function': 0.0684 seconds\n"
          ]
        },
        {
          "output_type": "execute_result",
          "data": {
            "text/plain": [
              "499999500000"
            ]
          },
          "metadata": {},
          "execution_count": 22
        }
      ]
    },
    {
      "cell_type": "code",
      "source": [
        "#\n",
        "#The Diamond Problem occurs in multiple inheritance when a class inherits from two classes that both inherit from a common superclass. This creates a diamond-shaped inheritance diagram, which can lead to ambiguity regarding which superclass method or attribute should be used.Python uses the C3 linearization algorithm to resolve this ambiguity through a defined Method Resolution Order (MRO). The MRO determines the order in which classes are searched when calling a method or accessing an attribute.\n",
        "#for examp,le >>\n",
        "class A:\n",
        "    def greet(self):\n",
        "        return \"Hello from A\"\n",
        "\n",
        "class B(A):\n",
        "    def greet(self):\n",
        "        return \"Hello from B\"\n",
        "\n",
        "class C(A):\n",
        "    def greet(self):\n",
        "        return \"Hello from C\"\n",
        "\n",
        "class D(B, C):\n",
        "    pass\n",
        "\n",
        "print(D.__mro__)\n",
        "# Output: (<class '__main__.D'>, <class '__main__.B'>, <class '__main__.C'>, <class '__main__.A'>, <class 'object'>)\n"
      ],
      "metadata": {
        "colab": {
          "base_uri": "https://localhost:8080/"
        },
        "id": "xi6E43tGRMZz",
        "outputId": "80426dd5-1906-4b9b-94f7-b514c7b03d4b"
      },
      "execution_count": 24,
      "outputs": [
        {
          "output_type": "stream",
          "name": "stdout",
          "text": [
            "(<class '__main__.D'>, <class '__main__.B'>, <class '__main__.C'>, <class '__main__.A'>, <class 'object'>)\n"
          ]
        }
      ]
    },
    {
      "cell_type": "code",
      "source": [
        "# Write a class method that keeps track of the number of instances created from a class.\n",
        "class InstanceCounter:\n",
        "    # Class variable to keep track of the number of instances\n",
        "    instance_count = 0\n",
        "\n",
        "    def __init__(self):\n",
        "        # Increment the instance count whenever a new instance is created\n",
        "        InstanceCounter.instance_count += 1\n",
        "\n",
        "    @classmethod\n",
        "    def get_instance_count(cls):\n",
        "        # Return the current instance count\n",
        "        return cls.instance_count\n",
        "\n",
        "# Example usage\n",
        "if __name__ == \"__main__\":\n",
        "    obj1 = InstanceCounter()\n",
        "    obj2 = InstanceCounter()\n",
        "    obj3 = InstanceCounter()\n",
        "\n",
        "    print(f\"Number of instances created: {InstanceCounter.get_instance_count()}\")\n"
      ],
      "metadata": {
        "colab": {
          "base_uri": "https://localhost:8080/"
        },
        "id": "EIc3RyOUSJYc",
        "outputId": "8d9392fe-e7ff-4a82-e169-a30582176ed4"
      },
      "execution_count": 25,
      "outputs": [
        {
          "output_type": "stream",
          "name": "stdout",
          "text": [
            "Number of instances created: 3\n"
          ]
        }
      ]
    },
    {
      "cell_type": "code",
      "source": [
        "#. Implement a static method in a class that checks if a given year is a leap year?\n",
        "class YearUtils:\n",
        "    @staticmethod\n",
        "    def is_leap_year(year):\n",
        "        \"\"\"Check if a given year is a leap year.\"\"\"\n",
        "        if year % 4 == 0:\n",
        "            if year % 100 == 0:\n",
        "                if year % 400 == 0:\n",
        "                    return True\n",
        "                return False\n",
        "            return True\n",
        "        return False\n",
        "\n",
        "# Example usage:\n",
        "year = 2024\n",
        "if YearUtils.is_leap_year(year):\n",
        "    print(f\"{year} is a leap year.\")\n",
        "else:\n",
        "    print(f\"{year} is not a leap year.\")\n"
      ],
      "metadata": {
        "colab": {
          "base_uri": "https://localhost:8080/"
        },
        "id": "e-8AQORtSiKD",
        "outputId": "3f6b3e14-1b64-409f-a585-fe787fdebee0"
      },
      "execution_count": 26,
      "outputs": [
        {
          "output_type": "stream",
          "name": "stdout",
          "text": [
            "2024 is a leap year.\n"
          ]
        }
      ]
    },
    {
      "cell_type": "code",
      "source": [],
      "metadata": {
        "id": "16uGCAysS7Cd"
      },
      "execution_count": null,
      "outputs": []
    }
  ]
}